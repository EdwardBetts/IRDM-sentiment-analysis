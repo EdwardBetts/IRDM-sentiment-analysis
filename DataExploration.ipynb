{
 "cells": [
  {
   "cell_type": "markdown",
   "metadata": {},
   "source": [
    "# Notebook for Preliminary Exploration of Data"
   ]
  },
  {
   "cell_type": "code",
   "execution_count": 1,
   "metadata": {
    "collapsed": true
   },
   "outputs": [],
   "source": [
    "# import statements\n",
    "from Util.Import import load_file, get_files\n",
    "import pandas as pd\n",
    "import numpy as np\n",
    "import json\n",
    "import nltk"
   ]
  },
  {
   "cell_type": "markdown",
   "metadata": {},
   "source": [
    "Data files may be loaded using the `load_file` function which takes the path to the data file as input: e.g."
   ]
  },
  {
   "cell_type": "code",
   "execution_count": 4,
   "metadata": {
    "collapsed": false
   },
   "outputs": [
    {
     "data": {
      "text/html": [
       "<div>\n",
       "<table border=\"1\" class=\"dataframe\">\n",
       "  <thead>\n",
       "    <tr style=\"text-align: right;\">\n",
       "      <th></th>\n",
       "      <th>country</th>\n",
       "      <th>date</th>\n",
       "      <th>latitude</th>\n",
       "      <th>longitude</th>\n",
       "      <th>placeName</th>\n",
       "      <th>placeType</th>\n",
       "      <th>profileLocation</th>\n",
       "      <th>text</th>\n",
       "      <th>tweetId</th>\n",
       "      <th>username</th>\n",
       "    </tr>\n",
       "  </thead>\n",
       "  <tbody>\n",
       "    <tr>\n",
       "      <th>0</th>\n",
       "      <td>United Kingdom</td>\n",
       "      <td>2015-07-25 22:32:16</td>\n",
       "      <td>51.471583</td>\n",
       "      <td>0.144333</td>\n",
       "      <td>Crayford, London</td>\n",
       "      <td>city</td>\n",
       "      <td></td>\n",
       "      <td>big man like me with a beard look how am I sca...</td>\n",
       "      <td>6.250711e+17</td>\n",
       "      <td>brontebroomexo</td>\n",
       "    </tr>\n",
       "    <tr>\n",
       "      <th>1</th>\n",
       "      <td>United Kingdom</td>\n",
       "      <td>2015-07-25 22:32:25</td>\n",
       "      <td>51.515480</td>\n",
       "      <td>-0.192133</td>\n",
       "      <td>Paddington, London</td>\n",
       "      <td>city</td>\n",
       "      <td>London</td>\n",
       "      <td>Another great night at the Tiroler Hut! So ref...</td>\n",
       "      <td>6.250711e+17</td>\n",
       "      <td>Underthebigsmok</td>\n",
       "    </tr>\n",
       "    <tr>\n",
       "      <th>2</th>\n",
       "      <td>United Kingdom</td>\n",
       "      <td>2015-07-25 22:32:25</td>\n",
       "      <td>51.570884</td>\n",
       "      <td>-0.297162</td>\n",
       "      <td>Brent, London</td>\n",
       "      <td>city</td>\n",
       "      <td>London, England</td>\n",
       "      <td>It creates a bubble of air that is held by the...</td>\n",
       "      <td>6.250711e+17</td>\n",
       "      <td>ahmerza</td>\n",
       "    </tr>\n",
       "    <tr>\n",
       "      <th>3</th>\n",
       "      <td>United Kingdom</td>\n",
       "      <td>2015-07-25 22:32:36</td>\n",
       "      <td>51.536903</td>\n",
       "      <td>-0.076749</td>\n",
       "      <td>Hackney, London</td>\n",
       "      <td>city</td>\n",
       "      <td>London</td>\n",
       "      <td>We're in the army now! #Tattoo #Ink #Inked #Mi...</td>\n",
       "      <td>6.250712e+17</td>\n",
       "      <td>thisisraynoir</td>\n",
       "    </tr>\n",
       "    <tr>\n",
       "      <th>4</th>\n",
       "      <td>United Kingdom</td>\n",
       "      <td>2015-07-25 22:32:36</td>\n",
       "      <td>51.505149</td>\n",
       "      <td>-0.075585</td>\n",
       "      <td>Camberwell, London</td>\n",
       "      <td>city</td>\n",
       "      <td>NYC</td>\n",
       "      <td>Leave it to me to find #Bride posing in #Londo...</td>\n",
       "      <td>6.250712e+17</td>\n",
       "      <td>THETonyMorrison</td>\n",
       "    </tr>\n",
       "  </tbody>\n",
       "</table>\n",
       "</div>"
      ],
      "text/plain": [
       "          country                date   latitude  longitude  \\\n",
       "0  United Kingdom 2015-07-25 22:32:16  51.471583   0.144333   \n",
       "1  United Kingdom 2015-07-25 22:32:25  51.515480  -0.192133   \n",
       "2  United Kingdom 2015-07-25 22:32:25  51.570884  -0.297162   \n",
       "3  United Kingdom 2015-07-25 22:32:36  51.536903  -0.076749   \n",
       "4  United Kingdom 2015-07-25 22:32:36  51.505149  -0.075585   \n",
       "\n",
       "            placeName placeType  profileLocation  \\\n",
       "0    Crayford, London      city                    \n",
       "1  Paddington, London      city           London   \n",
       "2       Brent, London      city  London, England   \n",
       "3     Hackney, London      city           London   \n",
       "4  Camberwell, London      city              NYC   \n",
       "\n",
       "                                                text       tweetId  \\\n",
       "0  big man like me with a beard look how am I sca...  6.250711e+17   \n",
       "1  Another great night at the Tiroler Hut! So ref...  6.250711e+17   \n",
       "2  It creates a bubble of air that is held by the...  6.250711e+17   \n",
       "3  We're in the army now! #Tattoo #Ink #Inked #Mi...  6.250712e+17   \n",
       "4  Leave it to me to find #Bride posing in #Londo...  6.250712e+17   \n",
       "\n",
       "          username  \n",
       "0   brontebroomexo  \n",
       "1  Underthebigsmok  \n",
       "2          ahmerza  \n",
       "3    thisisraynoir  \n",
       "4  THETonyMorrison  "
      ]
     },
     "execution_count": 4,
     "metadata": {},
     "output_type": "execute_result"
    }
   ],
   "source": [
    "data = load_file('./data/tweet_stream_london_6_0_0_32.txt')\n",
    "data.head()"
   ]
  },
  {
   "cell_type": "markdown",
   "metadata": {},
   "source": [
    "List of paths to data may be retrieved using the `get_files` function, which takes the path to the data directory as input: e.g."
   ]
  },
  {
   "cell_type": "code",
   "execution_count": 5,
   "metadata": {
    "collapsed": false
   },
   "outputs": [
    {
     "data": {
      "text/plain": [
       "['./data/tweet_stream_london_10_0_0_17.txt',\n",
       " './data/tweet_stream_london_10_0_0_22.txt',\n",
       " './data/tweet_stream_london_10_0_0_39.txt',\n",
       " './data/tweet_stream_london_10_0_0_44.txt',\n",
       " './data/tweet_stream_london_10_0_0_45.txt']"
      ]
     },
     "execution_count": 5,
     "metadata": {},
     "output_type": "execute_result"
    }
   ],
   "source": [
    "file_paths = get_files('./data')\n",
    "file_paths[0:5]"
   ]
  },
  {
   "cell_type": "code",
   "execution_count": null,
   "metadata": {
    "collapsed": true
   },
   "outputs": [],
   "source": []
  }
 ],
 "metadata": {
  "kernelspec": {
   "display_name": "Python 3",
   "language": "python",
   "name": "python3"
  },
  "language_info": {
   "codemirror_mode": {
    "name": "ipython",
    "version": 3
   },
   "file_extension": ".py",
   "mimetype": "text/x-python",
   "name": "python",
   "nbconvert_exporter": "python",
   "pygments_lexer": "ipython3",
   "version": "3.4.3"
  }
 },
 "nbformat": 4,
 "nbformat_minor": 0
}
